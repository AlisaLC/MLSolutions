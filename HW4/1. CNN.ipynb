{
 "cells": [
  {
   "cell_type": "markdown",
   "metadata": {},
   "source": [
    "<img src='http://www-scf.usc.edu/~ghasemig/images/sharif.png' alt=\"SUT logo\" width=200 height=200 align=left class=\"saturate\" >\n",
    "\n",
    "<br>\n",
    "<font face=\"Times New Roman\">\n",
    "<div dir=ltr align=center>\n",
    "<font color=0F5298 size=7>\n",
    "    Introduction to Machine Learning <br>\n",
    "<font color=2565AE size=5>\n",
    "    Computer Engineering Department <br>\n",
    "    Fall 2022<br>\n",
    "<font color=3C99D size=5>\n",
    "    Homework 4: Practical - Convolutional Neural Networks <br>\n",
    "<font color=696880 size=4>\n",
    "    Arian Amani\n",
    "    \n",
    "    \n",
    "____\n"
   ]
  },
  {
   "cell_type": "markdown",
   "metadata": {},
   "source": [
    "### Full Name : Ali Salesi\n",
    "### Student Number : 99105334\n",
    "___"
   ]
  },
  {
   "cell_type": "markdown",
   "metadata": {},
   "source": [
    "# Problem\n",
    "This assignment uses PyTorch to build and implement a residual CNN for solving a classification problem. Our goal is to classify handwritten digits from 0 to 9 on the MNIST dataset. You can try larger and more fun datasets if you have access to Google Colab. (for example: [facial emotion detection](https://www.kaggle.com/datasets/msambare/fer2013))\n",
    "\n",
    "* It is highly recommended to run this notebook on Google Colab so that you can utilize its GPU.\n",
    "* If you need to change the inputs of functions you are implementing, or want to add new cells or functions, feel free to do so."
   ]
  },
  {
   "cell_type": "markdown",
   "metadata": {
    "id": "W0bGV8AXO3Yx"
   },
   "source": [
    "# Setup"
   ]
  },
  {
   "cell_type": "code",
   "execution_count": 1,
   "metadata": {
    "id": "CdrZr6HWO2p8"
   },
   "outputs": [],
   "source": [
    "import torch\n",
    "from torch import nn\n",
    "from torch.nn import functional as F\n",
    "from torch.utils.data import Dataset, DataLoader, random_split\n",
    "from torchvision import transforms, datasets\n",
    "\n",
    "from tqdm import tqdm\n",
    "import numpy as np\n",
    "import pandas as pd\n",
    "import matplotlib.pyplot as plt\n",
    "\n",
    "plt.style.use('ggplot')\n",
    "###########################################################\n",
    "##  If you need any other packages, import them below    ##\n",
    "###########################################################\n"
   ]
  },
  {
   "cell_type": "code",
   "execution_count": 2,
   "metadata": {},
   "outputs": [
    {
     "data": {
      "text/plain": [
       "device(type='cuda')"
      ]
     },
     "execution_count": 2,
     "metadata": {},
     "output_type": "execute_result"
    }
   ],
   "source": [
    "device = torch.device('cuda' if torch.cuda.is_available() else 'cpu')\n",
    "device"
   ]
  },
  {
   "cell_type": "markdown",
   "metadata": {
    "id": "gzydGC2SNuAu"
   },
   "source": [
    "# Prepare The Data (10 Points)"
   ]
  },
  {
   "cell_type": "markdown",
   "metadata": {},
   "source": [
    "Write a composed transformation to transform our dataset's PIL images to tensors and normalize them with ```mean: 0.1307``` and ```std: 0.3081```: "
   ]
  },
  {
   "cell_type": "markdown",
   "metadata": {},
   "source": [
    "<details>\n",
    "<summary>Hint</summary>\n",
    "<br>\n",
    "<a href=\"https://pytorch.org/vision/stable/generated/torchvision.transforms.Compose.html\">torchvision.transforms.Compose</a>\n",
    "</details>"
   ]
  },
  {
   "cell_type": "code",
   "execution_count": 3,
   "metadata": {},
   "outputs": [],
   "source": [
    "###############################################################\n",
    "##                Compose your transformations               ##\n",
    "###############################################################\n",
    "transformation = transforms.Compose([\n",
    "    transforms.ToTensor(),\n",
    "    transforms.Normalize(0.1307, 0.3081),\n",
    "])"
   ]
  },
  {
   "cell_type": "markdown",
   "metadata": {
    "id": "ANdYnd04N0ze"
   },
   "source": [
    "Split the downloaded MNIST dataset into two dataloaders ```train``` & ```val```"
   ]
  },
  {
   "cell_type": "code",
   "execution_count": 4,
   "metadata": {},
   "outputs": [
    {
     "name": "stdout",
     "output_type": "stream",
     "text": [
      "60000\n"
     ]
    }
   ],
   "source": [
    "# Download the MNIST dataset\n",
    "mnist_data = datasets.MNIST(root='data/', download=True, transform=transformation)\n",
    "\n",
    "# Number of images in the dataset: 60,000\n",
    "print(len(mnist_data))\n",
    "\n",
    "# Split the dataset into training and validation sets\n",
    "train_data, valid_data = random_split(mnist_data, [50000, 10000]) "
   ]
  },
  {
   "cell_type": "markdown",
   "metadata": {},
   "source": [
    "Create dataloaders for your train and validation data with ```batch size 16``` and ```shuffle = True``` for train loader."
   ]
  },
  {
   "cell_type": "markdown",
   "metadata": {},
   "source": [
    "<details>\n",
    "<summary>Hint</summary>\n",
    "<br>\n",
    "<a href=\"https://pytorch.org/tutorials/beginner/basics/data_tutorial.html\">DATASETS & DATALOADERS</a>\n",
    "</details>"
   ]
  },
  {
   "cell_type": "code",
   "execution_count": 5,
   "metadata": {
    "id": "4CEUTGaFQI51"
   },
   "outputs": [],
   "source": [
    "###############################################################\n",
    "##           Load the datasets into train/valid              ##\n",
    "##                       dataloaders                         ##\n",
    "###############################################################\n",
    "train_loader = DataLoader(train_data, batch_size=2000, shuffle=True)\n",
    "val_loader = DataLoader(valid_data, batch_size=2000, shuffle=False)"
   ]
  },
  {
   "cell_type": "markdown",
   "metadata": {
    "id": "HF_40_3rQ5Uv"
   },
   "source": [
    "# Define Model (40 Points)"
   ]
  },
  {
   "cell_type": "markdown",
   "metadata": {},
   "source": [
    "### You need to implement a model with the architecture below:\n",
    "[Input: (BS, 1, 28, 28)] -- > [Conv2D (BS, 16, 28, 28)] --> ReLU --> [MaxPool2D (BS, 16, 14, 14): Residual1]\n",
    "\n",
    "--> [Conv2D (BS, 16, 14, 14)] --> ReLU --> [Conv2D (BS, 16, 14, 14)] --> ReLU --> [Addition with Residual1]\n",
    "\n",
    "--> [MaxPool2D (BS, 16, 7, 7)] --> [Conv2D (BS, 64, 7, 7)] --> [ReLU: Residual2]\n",
    "\n",
    "--> [Conv2D (BS, 64, 7, 7)] --> ReLU --> [Conv2D (BS, 64, 7, 7)] --> ReLU --> [Addition with Residual2]\n",
    "\n",
    "--> [GlobalAveragePooling (BS, 64, 1, 1)] --> [Flatten (BS, 64)] --> [Linear (BS, 10)] --> ReLU --> OUT\n",
    "\n",
    "Here you can see the drawn schematic of the architecture, too: [Link](https://drive.google.com/file/d/1gQzafyxTkuvQr8T-xUncLmedX94LnY_l/view?usp=share_link)"
   ]
  },
  {
   "cell_type": "markdown",
   "metadata": {},
   "source": [
    "<details>\n",
    "<summary>Hint</summary>\n",
    "<br>\n",
    "These might be helpful:\n",
    "<br>\n",
    "<a href=\"https://pytorch.org/docs/stable/generated/torch.clone.html\">TORCH.CLONE</a>\n",
    "<br><br>\n",
    "<a href=\"https://pytorch.org/docs/master/generated/torch.nn.AdaptiveAvgPool2d.html#torch.nn.AdaptiveAvgPool2d\">AdaptiveAvgPool2d</a> with output size (1, 1) for global average pooling\n",
    "<br><br>\n",
    "<a href=\"https://arxiv.org/pdf/1512.03385.pdf\">Deep Residual Learning for Image Recognition</a>\n",
    "</details>"
   ]
  },
  {
   "cell_type": "code",
   "execution_count": 6,
   "metadata": {
    "id": "jQfGVj2rQ90G"
   },
   "outputs": [],
   "source": [
    "#####################################\n",
    "##        Define your model        ##\n",
    "##            Your Code            ##\n",
    "#####################################\n",
    "class ResidualClassifier(nn.Module):\n",
    "    def __init__(self):\n",
    "        super(ResidualClassifier, self).__init__()\n",
    "        self.base = nn.Sequential(\n",
    "            nn.Conv2d(1, 16, 3, 1, 1),\n",
    "            nn.ReLU(),\n",
    "            nn.MaxPool2d(2)\n",
    "        )\n",
    "        self.layer_1 = nn.Sequential(\n",
    "            nn.Conv2d(16, 16, 3, 1, 1),\n",
    "            nn.ReLU(),\n",
    "            nn.Conv2d(16, 16, 3, 1, 1),\n",
    "            nn.ReLU(),\n",
    "        )\n",
    "        self.layer_2 = nn.Sequential(\n",
    "            nn.MaxPool2d(2),\n",
    "            nn.Conv2d(16, 64, 3, 1, 1),\n",
    "            nn.ReLU(),\n",
    "        )\n",
    "        self.layer_3 = nn.Sequential(\n",
    "            nn.Conv2d(64, 64, 3, 1, 1),\n",
    "            nn.ReLU(),\n",
    "            nn.Conv2d(64, 64, 3, 1, 1),\n",
    "            nn.ReLU(),\n",
    "        )\n",
    "        self.layer_4 = nn.Sequential(\n",
    "            nn.AdaptiveAvgPool2d(1),\n",
    "            nn.Flatten(),\n",
    "            nn.Linear(64, 10),\n",
    "        )\n",
    "    def forward(self, x):\n",
    "        x = self.base(x)\n",
    "        out = self.layer_1(x)\n",
    "        x = self.layer_2(out + x)\n",
    "        out = self.layer_3(x)\n",
    "        return self.layer_4(out + x)"
   ]
  },
  {
   "cell_type": "markdown",
   "metadata": {
    "id": "1jZeKXV9Rbq3"
   },
   "source": [
    "# Train Model (30 Points)"
   ]
  },
  {
   "cell_type": "code",
   "execution_count": 7,
   "metadata": {
    "id": "koMk0TkKRazn"
   },
   "outputs": [],
   "source": [
    "######################################################################\n",
    "##        Instantiate model, define hyper parameters, optimizer,    ##\n",
    "##        loss function and etc                                     ##\n",
    "######################################################################\n",
    "model = ResidualClassifier().to(device)\n",
    "criterion = nn.CrossEntropyLoss()\n",
    "optimizer = torch.optim.Adam(model.parameters(), lr=0.0035)\n",
    "scheduler = torch.optim.lr_scheduler.CosineAnnealingLR(optimizer, T_max=35)"
   ]
  },
  {
   "cell_type": "code",
   "execution_count": 8,
   "metadata": {},
   "outputs": [
    {
     "name": "stderr",
     "output_type": "stream",
     "text": [
      "ACC: 0.988 | LOSS: 0.000: 100%|██████████████████████████████| 35/35 [05:31<00:00,  9.46s/it, ACC: 0.983 | LOSS: 0.000]\n"
     ]
    }
   ],
   "source": [
    "######################################################################\n",
    "##        Train your model (Complete the code below)                ##\n",
    "######################################################################\n",
    "total_step = len(train_loader)\n",
    "num_epochs = 35\n",
    "\n",
    "tl = dict()\n",
    "ta = dict()\n",
    "vl = dict()\n",
    "va = dict()\n",
    "best_valid_acc = 0\n",
    "\n",
    "pbar = tqdm(range(num_epochs))\n",
    "for epoch in pbar:\n",
    "    model.train()\n",
    "    train_loss = 0\n",
    "    valid_loss = 0\n",
    "    train_correct = 0\n",
    "    train_total = 0\n",
    "    valid_correct = 0\n",
    "    valid_total = 0\n",
    "    for images, labels in train_loader:  \n",
    "        inputs, targets = images.to(device), labels.to(device)\n",
    "        optimizer.zero_grad()\n",
    "        outputs = model(inputs)\n",
    "        loss = criterion(outputs, targets)\n",
    "        loss.backward()\n",
    "        optimizer.step()\n",
    "        \n",
    "        train_loss += loss.item()\n",
    "        _, predicted = outputs.max(1)\n",
    "        train_total += targets.size(0)\n",
    "        train_correct += predicted.eq(targets).sum().item()\n",
    "        pbar.set_description(f'ACC: {train_correct / train_total:.03f} | LOSS: {train_loss / train_total:.03f}')\n",
    "\n",
    "    model.eval()\n",
    "    with torch.no_grad():\n",
    "        for images, labels in val_loader:\n",
    "            inputs, targets = images.to(device), labels.to(device)\n",
    "            outputs = model(inputs)\n",
    "            loss = criterion(outputs, targets)\n",
    "            \n",
    "            valid_loss += loss.item()\n",
    "            _, predicted = outputs.max(1)\n",
    "            valid_total += targets.size(0)\n",
    "            valid_correct += predicted.eq(targets).sum().item()\n",
    "            pbar.set_postfix_str(f'ACC: {valid_correct / valid_total:.03f} | LOSS: {valid_loss / valid_total:.03f}')\n",
    "    scheduler.step()\n",
    "    \n",
    "    tl[epoch] = train_loss / train_total\n",
    "    ta[epoch] = 100.0 * train_correct / train_total\n",
    "    vl[epoch] = valid_loss / valid_total\n",
    "    va[epoch] = 100.0 * valid_correct / valid_total\n",
    "    if va[epoch] > best_valid_acc:\n",
    "        best_valid_acc = va[epoch]\n",
    "        torch.save(model.state_dict(), 'best_rnet.pts')"
   ]
  },
  {
   "cell_type": "code",
   "execution_count": 9,
   "metadata": {
    "id": "_YSWvcEGSVor"
   },
   "outputs": [
    {
     "data": {
      "image/png": "[encoded data removed]",
      "text/plain": [
       "<Figure size 640x480 with 1 Axes>"
      ]
     },
     "metadata": {},
     "output_type": "display_data"
    },
    {
     "data": {
      "image/png": "[encoded data removed]",
      "text/plain": [
       "<Figure size 640x480 with 1 Axes>"
      ]
     },
     "metadata": {},
     "output_type": "display_data"
    }
   ],
   "source": [
    "##############################################################\n",
    "##          Plot metrics graph for different epochs         ##\n",
    "##                        Your Code                         ##\n",
    "##############################################################\n",
    "plt.plot(*zip(*sorted(tl.items())), label='training')\n",
    "plt.plot(*zip(*sorted(vl.items())), label='validation')\n",
    "plt.title('Loss')\n",
    "plt.legend()\n",
    "plt.show()\n",
    "plt.plot(*zip(*sorted(ta.items())), label='training')\n",
    "plt.plot(*zip(*sorted(va.items())), label='validation')\n",
    "plt.title('Accuracy')\n",
    "plt.legend()\n",
    "plt.show()"
   ]
  },
  {
   "cell_type": "markdown",
   "metadata": {
    "id": "LzhCrIFkSE1D"
   },
   "source": [
    "# Test Model (20 Points)"
   ]
  },
  {
   "cell_type": "code",
   "execution_count": 10,
   "metadata": {
    "id": "ihixveNISFwE"
   },
   "outputs": [
    {
     "name": "stdout",
     "output_type": "stream",
     "text": [
      "10000\n",
      "ACC: 0.988 | LOSS: 0.000\n"
     ]
    }
   ],
   "source": [
    "##################################################\n",
    "##          Test your model on test-set         ##\n",
    "##          and plot confusion matrix           ##\n",
    "##################################################\n",
    "\n",
    "test_data = datasets.MNIST(root='data/', download=True, transform=transformation, train=False)\n",
    "test_loader = DataLoader(test_data, batch_size=64, shuffle=False)\n",
    "print(len(test_data))\n",
    "\n",
    "model.load_state_dict(torch.load('best_rnet.pts'))\n",
    "model.eval()\n",
    "valid_loss = 0\n",
    "valid_correct = 0\n",
    "valid_total = 0\n",
    "with torch.no_grad():\n",
    "    for images, labels in test_loader:\n",
    "        inputs, targets = images.to(device), labels.to(device)\n",
    "        outputs = model(inputs)\n",
    "        loss = criterion(outputs, targets)\n",
    "        \n",
    "        valid_loss += loss.item()\n",
    "        _, predicted = outputs.max(1)\n",
    "        valid_total += targets.size(0)\n",
    "        valid_correct += predicted.eq(targets).sum().item()\n",
    "print(f'ACC: {train_correct / train_total:.03f} | LOSS: {train_loss / train_total:.03f}')"
   ]
  }
 ],
 "metadata": {
  "colab": {
   "provenance": []
  },
  "kernelspec": {
   "display_name": "Python 3 (ipykernel)",
   "language": "python",
   "name": "python3"
  },
  "language_info": {
   "codemirror_mode": {
    "name": "ipython",
    "version": 3
   },
   "file_extension": ".py",
   "mimetype": "text/x-python",
   "name": "python",
   "nbconvert_exporter": "python",
   "pygments_lexer": "ipython3",
   "version": "3.9.13 (tags/v3.9.13:6de2ca5, May 17 2022, 16:36:42) [MSC v.1929 64 bit (AMD64)]"
  },
  "varInspector": {
   "cols": {
    "lenName": 16,
    "lenType": 16,
    "lenVar": 40
   },
   "kernels_config": {
    "python": {
     "delete_cmd_postfix": "",
     "delete_cmd_prefix": "del ",
     "library": "var_list.py",
     "varRefreshCmd": "print(var_dic_list())"
    },
    "r": {
     "delete_cmd_postfix": ") ",
     "delete_cmd_prefix": "rm(",
     "library": "var_list.r",
     "varRefreshCmd": "cat(var_dic_list()) "
    }
   },
   "types_to_exclude": [
    "module",
    "function",
    "builtin_function_or_method",
    "instance",
    "_Feature"
   ],
   "window_display": false
  },
  "vscode": {
   "interpreter": {
    "hash": "4cdab81cfa56356ab5b949f60df5e1e80f63026375d4bba17a1c6608f8c1fd40"
   }
  }
 },
 "nbformat": 4,
 "nbformat_minor": 1
}
